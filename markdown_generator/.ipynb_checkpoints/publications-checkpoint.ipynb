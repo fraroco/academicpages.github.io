{
 "cells": [
  {
   "cell_type": "markdown",
   "metadata": {},
   "source": [
    "# Publications markdown generator for academicpages\n",
    "\n",
    "Takes a TSV of publications with metadata and converts them for use with [academicpages.github.io](academicpages.github.io). This is an interactive Jupyter notebook ([see more info here](http://jupyter-notebook-beginner-guide.readthedocs.io/en/latest/what_is_jupyter.html)). The core python code is also in `publications.py`. Run either from the `markdown_generator` folder after replacing `publications.tsv` with one containing your data.\n",
    "\n",
    "TODO: Make this work with BibTex and other databases of citations, rather than Stuart's non-standard TSV format and citation style.\n"
   ]
  },
  {
   "cell_type": "markdown",
   "metadata": {},
   "source": [
    "## Data format\n",
    "\n",
    "The TSV needs to have the following columns: pub_date, title, venue, excerpt, citation, site_url, and paper_url, with a header at the top. \n",
    "\n",
    "- `excerpt` and `paper_url` can be blank, but the others must have values. \n",
    "- `pub_date` must be formatted as YYYY-MM-DD.\n",
    "- `url_slug` will be the descriptive part of the .md file and the permalink URL for the page about the paper. The .md file will be `YYYY-MM-DD-[url_slug].md` and the permalink will be `https://[yourdomain]/publications/YYYY-MM-DD-[url_slug]`\n",
    "\n",
    "This is how the raw file looks (it doesn't look pretty, use a spreadsheet or other program to edit and create)."
   ]
  },
  {
   "cell_type": "code",
   "execution_count": 1,
   "metadata": {},
   "outputs": [
    {
     "name": "stdout",
     "output_type": "stream",
     "text": [
      "pub_date\ttitle\tvenue\texcerpt\tcitation\turl_slug\tpaper_url\r\n",
      "2016-01-01\tFRET analysis using sperm-activating peptides tagged with fluorescent proteins reveals that ligand-binding sites exist as clusters\tJournal of Experimental Biology\tLong-range cellular communication between the sperm and egg is critical for external fertilization. Sperm-activating peptides (SAPs) are diffusible components of the outer layer of eggs in echinoderms, and function as chemoattractants for spermatozoa. The decapeptide named speract is the best-characterized sea urchin SAP. Biochemical and physiological actions of speract have been studied with purified or chemically synthesized peptides. In this work, we prepared recombinant speract fused to a fluorescent protein (FP; FP-speract) using three color variants: a cyan (eCFP), a yellow (mVenus) and a large Stokes shift yellow (mAmetrine) FP. Although these fluorescence tags are 20 times larger than speract, competitive binding experiments using mAmetrine-speract revealed that this FP- speract has binding affinity to the receptor that is comparable (7.6-fold less) to that of non-labeled speract. Indeed, 10 nmol l −1 eCFP- speract induces physiological sperm responses such as membrane potential changes and increases in intracellular pH and Ca 2+ concentrations similar to those triggered by 10 nmol l −1 speract. Furthermore, FP-speract maintains its fluorescence upon binding to its receptor. Using this property, we performed fluorescence resonance energy transfer (FRET) measurements with eCFP-speract and mVenus-speract as probes and obtained a positive FRET signal upon binding to the receptor, which suggests that the speract receptor exists as an oligomer, at least as a dimer, or alternatively that a single speract receptor protein possesses multiple binding sites. This property could partially account for the positive and/or negative cooperative binding of speract to the receptor.\tArcos-Hernández <i>et al.,</i> 2016\tArcos_2016\thttp://fraroco.github.io/files/ArcosC_JEB_2016.pdf\r\n",
      "2017-07-01\tFRET-based binding assay between a fluorescent cAMP analogue and a cyclic nucleotide-binding domain tagged with a CFP\tFEBS Letters\tThe cyclic nucleotide-binding domain (CNBD) functions as a regulatory domain of many proteins involved in cyclic nucleotide signalling. We developed a straightforward and reliable binding assay based on intermolecular fluorescence resonance energy transfer (FRET) between an adenosine-3’,5’-cyclic monophosphate analogue labelled with fluorescein and a recombinant CNBD of human EPAC1 tagged with a cyan fluorescence protein (CFP). The high FRET efficiency of this method (~ 80%) allowed us to perform several types of binding experiments with nanomolar range of sample using conventional equipment. In addition, the CFP tag on the CNBD enabled us to perform a specific binding experiment using an unpurified protein. Considering these advantages, this technique is useful to study poorly characterized CNBDs.\tRomero <i>et al.,</i> 2017 \tRomero_2017\thttp://fraroco.github.io/files/FRomero_FEBSLETTERS_2017.pdf\r\n",
      "2014-07-02\tIntracellular pH in sperm physiology\tBiochemical and Biophysical Research Communications\tIntracellular pH (pHi) regulation is essential for cell function. Notably, several unique sperm ion transporters and enzymes whose elimination causes infertility are either pHi dependent or somehow related to pHi regulation. Amongst them are: CatSper, a Ca 2+ channel; Slo3, a K + channel; the sperm-specific Na+/H+ exchanger and the soluble adenylyl cyclase. It is thus clear that pHi regulation is of the utmost importance for sperm physiology. This review briefly summarizes the key components involved in pHi regulation, their characteristics and participation in fundamental sperm functions such as motility, maturation and the acrosome reaction.\tNishigaki <i>et al., </i> 2014\tNishigaki_2014\thttp://fraroco.github.io/files/NishigakiT_BIC_2014.pdf\r\n",
      "2016-07-01\tCatSper, el canal de Ca2+ que regula el batido flagelar del espermatozoide en eucariontes\tRevista Iberoamericana de Ciencia\tCatSper is a sperm-specific Ca2+ channel. In mammals, the elimination of any of the distinct pore-forming subunits results in male infertility. CatSper is a moderate voltage-dependent channel, activated by intracellular alkalization and extracellular ligands (in certain species). The activation of this channel exhibits a change in the swimming pattern from an activated to hyperactivated motility. In sea urchin, CatSper has been described as the modulator of the sperm chemotaxis toward the oocyte. Interestingly, this channel is present from the common ancestor of eukaryotes. Nevertheless, it is absent in some taxonomic groups where possibly another protein replaced its function during the evolution.\tNishigaki <i>et al., </i> 2016\tNishigaki_2016\thttp://fraroco.github.io/files/NishigakiT_RIC_2016.pdf\r\n",
      "2018-09-01\tRobust evaluation of intermolecular FRET using a large Stokes shift fluorophore as a donor\tBioTechniques\tFluorescence (or Förster) resonance energy transfer (FRET) is a straightforward and sensitive technique to evaluate molecular interactions. However, most of the popular FRET pairs suffer cross-excitation of the acceptor, which could lead to false positives. To overcome this problem, we selected a large Stokes shift (LSS) fluorophore as a FRET donor. As a successful example, we employed a new FRET pair mAmetrine (an LSS yellow fluorescence protein)/DY-547 (a cyanine derivative) to substitute CFP/fluorescein that we previously employed to study molecular interactions between cyclic nucleotide binding domains and cyclic nucleotides. The new FRET pair is practically free of cross-excitation of the acceptor. Namely, a change in the fl uorescence spectral shape implies evidence of FRET without other control experiments.\tSantana-Calvo <i>et al.,</i> 2018\tSantana_2018\thttp://fraroco.github.io/files/Santana-Calvo_BT_2018.pdf\r\n"
     ]
    }
   ],
   "source": [
    "!cat publications.tsv"
   ]
  },
  {
   "cell_type": "markdown",
   "metadata": {},
   "source": [
    "## Import pandas\n",
    "\n",
    "We are using the very handy pandas library for dataframes."
   ]
  },
  {
   "cell_type": "code",
   "execution_count": 2,
   "metadata": {},
   "outputs": [],
   "source": [
    "import pandas as pd"
   ]
  },
  {
   "cell_type": "markdown",
   "metadata": {},
   "source": [
    "## Import TSV\n",
    "\n",
    "Pandas makes this easy with the read_csv function. We are using a TSV, so we specify the separator as a tab, or `\\t`.\n",
    "\n",
    "I found it important to put this data in a tab-separated values format, because there are a lot of commas in this kind of data and comma-separated values can get messed up. However, you can modify the import statement, as pandas also has read_excel(), read_json(), and others."
   ]
  },
  {
   "cell_type": "code",
   "execution_count": 3,
   "metadata": {},
   "outputs": [
    {
     "data": {
      "text/html": [
       "<div>\n",
       "<style scoped>\n",
       "    .dataframe tbody tr th:only-of-type {\n",
       "        vertical-align: middle;\n",
       "    }\n",
       "\n",
       "    .dataframe tbody tr th {\n",
       "        vertical-align: top;\n",
       "    }\n",
       "\n",
       "    .dataframe thead th {\n",
       "        text-align: right;\n",
       "    }\n",
       "</style>\n",
       "<table border=\"1\" class=\"dataframe\">\n",
       "  <thead>\n",
       "    <tr style=\"text-align: right;\">\n",
       "      <th></th>\n",
       "      <th>pub_date</th>\n",
       "      <th>title</th>\n",
       "      <th>venue</th>\n",
       "      <th>excerpt</th>\n",
       "      <th>citation</th>\n",
       "      <th>url_slug</th>\n",
       "      <th>paper_url</th>\n",
       "    </tr>\n",
       "  </thead>\n",
       "  <tbody>\n",
       "    <tr>\n",
       "      <th>0</th>\n",
       "      <td>2016-01-01</td>\n",
       "      <td>FRET analysis using sperm-activating peptides ...</td>\n",
       "      <td>Journal of Experimental Biology</td>\n",
       "      <td>Long-range cellular communication between the ...</td>\n",
       "      <td>Arcos-Hernández &lt;i&gt;et al.,&lt;/i&gt; 2016</td>\n",
       "      <td>Arcos_2016</td>\n",
       "      <td>http://fraroco.github.io/files/ArcosC_JEB_2016...</td>\n",
       "    </tr>\n",
       "    <tr>\n",
       "      <th>1</th>\n",
       "      <td>2017-07-01</td>\n",
       "      <td>FRET-based binding assay between a fluorescent...</td>\n",
       "      <td>FEBS Letters</td>\n",
       "      <td>The cyclic nucleotide-binding domain (CNBD) fu...</td>\n",
       "      <td>Romero &lt;i&gt;et al.,&lt;/i&gt; 2017</td>\n",
       "      <td>Romero_2017</td>\n",
       "      <td>http://fraroco.github.io/files/FRomero_FEBSLET...</td>\n",
       "    </tr>\n",
       "    <tr>\n",
       "      <th>2</th>\n",
       "      <td>2014-07-02</td>\n",
       "      <td>Intracellular pH in sperm physiology</td>\n",
       "      <td>Biochemical and Biophysical Research Communica...</td>\n",
       "      <td>Intracellular pH (pHi) regulation is essential...</td>\n",
       "      <td>Nishigaki &lt;i&gt;et al., &lt;/i&gt; 2014</td>\n",
       "      <td>Nishigaki_2014</td>\n",
       "      <td>http://fraroco.github.io/files/NishigakiT_BIC_...</td>\n",
       "    </tr>\n",
       "    <tr>\n",
       "      <th>3</th>\n",
       "      <td>2016-07-01</td>\n",
       "      <td>CatSper, el canal de Ca2+ que regula el batido...</td>\n",
       "      <td>Revista Iberoamericana de Ciencia</td>\n",
       "      <td>CatSper is a sperm-specific Ca2+ channel. In m...</td>\n",
       "      <td>Nishigaki &lt;i&gt;et al., &lt;/i&gt; 2016</td>\n",
       "      <td>Nishigaki_2016</td>\n",
       "      <td>http://fraroco.github.io/files/NishigakiT_RIC_...</td>\n",
       "    </tr>\n",
       "    <tr>\n",
       "      <th>4</th>\n",
       "      <td>2018-09-01</td>\n",
       "      <td>Robust evaluation of intermolecular FRET using...</td>\n",
       "      <td>BioTechniques</td>\n",
       "      <td>Fluorescence (or Förster) resonance energy tra...</td>\n",
       "      <td>Santana-Calvo &lt;i&gt;et al.,&lt;/i&gt; 2018</td>\n",
       "      <td>Santana_2018</td>\n",
       "      <td>http://fraroco.github.io/files/Santana-Calvo_B...</td>\n",
       "    </tr>\n",
       "  </tbody>\n",
       "</table>\n",
       "</div>"
      ],
      "text/plain": [
       "     pub_date                                              title  \\\n",
       "0  2016-01-01  FRET analysis using sperm-activating peptides ...   \n",
       "1  2017-07-01  FRET-based binding assay between a fluorescent...   \n",
       "2  2014-07-02               Intracellular pH in sperm physiology   \n",
       "3  2016-07-01  CatSper, el canal de Ca2+ que regula el batido...   \n",
       "4  2018-09-01  Robust evaluation of intermolecular FRET using...   \n",
       "\n",
       "                                               venue  \\\n",
       "0                    Journal of Experimental Biology   \n",
       "1                                       FEBS Letters   \n",
       "2  Biochemical and Biophysical Research Communica...   \n",
       "3                  Revista Iberoamericana de Ciencia   \n",
       "4                                      BioTechniques   \n",
       "\n",
       "                                             excerpt  \\\n",
       "0  Long-range cellular communication between the ...   \n",
       "1  The cyclic nucleotide-binding domain (CNBD) fu...   \n",
       "2  Intracellular pH (pHi) regulation is essential...   \n",
       "3  CatSper is a sperm-specific Ca2+ channel. In m...   \n",
       "4  Fluorescence (or Förster) resonance energy tra...   \n",
       "\n",
       "                              citation        url_slug  \\\n",
       "0  Arcos-Hernández <i>et al.,</i> 2016      Arcos_2016   \n",
       "1          Romero <i>et al.,</i> 2017      Romero_2017   \n",
       "2       Nishigaki <i>et al., </i> 2014  Nishigaki_2014   \n",
       "3       Nishigaki <i>et al., </i> 2016  Nishigaki_2016   \n",
       "4    Santana-Calvo <i>et al.,</i> 2018    Santana_2018   \n",
       "\n",
       "                                           paper_url  \n",
       "0  http://fraroco.github.io/files/ArcosC_JEB_2016...  \n",
       "1  http://fraroco.github.io/files/FRomero_FEBSLET...  \n",
       "2  http://fraroco.github.io/files/NishigakiT_BIC_...  \n",
       "3  http://fraroco.github.io/files/NishigakiT_RIC_...  \n",
       "4  http://fraroco.github.io/files/Santana-Calvo_B...  "
      ]
     },
     "execution_count": 3,
     "metadata": {},
     "output_type": "execute_result"
    }
   ],
   "source": [
    "publications = pd.read_csv(\"publications.tsv\", sep=\"\\t\", header=0)\n",
    "publications\n"
   ]
  },
  {
   "cell_type": "markdown",
   "metadata": {},
   "source": [
    "## Escape special characters\n",
    "\n",
    "YAML is very picky about how it takes a valid string, so we are replacing single and double quotes (and ampersands) with their HTML encoded equivilents. This makes them look not so readable in raw format, but they are parsed and rendered nicely."
   ]
  },
  {
   "cell_type": "code",
   "execution_count": 4,
   "metadata": {},
   "outputs": [],
   "source": [
    "html_escape_table = {\n",
    "    \"&\": \"&amp;\",\n",
    "    '\"': \"&quot;\",\n",
    "    \"'\": \"&apos;\"\n",
    "    }\n",
    "\n",
    "def html_escape(text):\n",
    "    \"\"\"Produce entities within text.\"\"\"\n",
    "    return \"\".join(html_escape_table.get(c,c) for c in text)"
   ]
  },
  {
   "cell_type": "markdown",
   "metadata": {},
   "source": [
    "## Creating the markdown files\n",
    "\n",
    "This is where the heavy lifting is done. This loops through all the rows in the TSV dataframe, then starts to concatentate a big string (```md```) that contains the markdown for each type. It does the YAML metadata first, then does the description for the individual page."
   ]
  },
  {
   "cell_type": "code",
   "execution_count": 5,
   "metadata": {},
   "outputs": [],
   "source": [
    "import os\n",
    "for row, item in publications.iterrows():\n",
    "    \n",
    "    md_filename = str(item.pub_date) + \"-\" + item.url_slug + \".md\"\n",
    "    html_filename = str(item.pub_date) + \"-\" + item.url_slug\n",
    "    year = item.pub_date[:4]\n",
    "    \n",
    "    ## YAML variables\n",
    "    \n",
    "    md = \"---\\ntitle: \\\"\"   + item.title + '\"\\n'\n",
    "    \n",
    "    md += \"\"\"collection: publications\"\"\"\n",
    "    \n",
    "    md += \"\"\"\\npermalink: /publication/\"\"\" + html_filename\n",
    "    \n",
    "    if len(str(item.excerpt)) > 5:\n",
    "        md += \"\\nexcerpt: '\" + html_escape(item.excerpt) + \"'\"\n",
    "    \n",
    "    md += \"\\ndate: \" + str(item.pub_date) \n",
    "    \n",
    "    md += \"\\nvenue: '\" + html_escape(item.venue) + \"'\"\n",
    "    \n",
    "    if len(str(item.paper_url)) > 5:\n",
    "        md += \"\\npaperurl: '\" + item.paper_url + \"'\"\n",
    "    \n",
    "    md += \"\\ncitation: '\" + html_escape(item.citation) + \"'\"\n",
    "    \n",
    "    md += \"\\n---\"\n",
    "    \n",
    "    ## Markdown description for individual page\n",
    "        \n",
    "    if len(str(item.excerpt)) > 5:\n",
    "        md += \"\\n\" + html_escape(item.excerpt) + \"\\n\"\n",
    "    \n",
    "    if len(str(item.paper_url)) > 5:\n",
    "        md += \"\\n[Download paper here](\" + item.paper_url + \")\\n\" \n",
    "        \n",
    "    md += \"\\nRecommended citation: \" + item.citation\n",
    "    \n",
    "    md_filename = os.path.basename(md_filename)\n",
    "       \n",
    "    with open(\"../_publications/\" + md_filename, 'w') as f:\n",
    "        f.write(md)"
   ]
  },
  {
   "cell_type": "markdown",
   "metadata": {},
   "source": [
    "These files are in the publications directory, one directory below where we're working from."
   ]
  },
  {
   "cell_type": "code",
   "execution_count": 6,
   "metadata": {},
   "outputs": [
    {
     "name": "stdout",
     "output_type": "stream",
     "text": [
      "2009-10-01-paper-title-number-1.md  2016-01-01-Arcos_2016.md\r\n",
      "2010-10-01-paper-title-number-2.md  2016-07-01-Nishigaki_2016.md\r\n",
      "2014-07-02-Nishigaki_2014.md\t    2017-07-01-Romero_2017.md\r\n",
      "2015-10-01-paper-title-number-3.md  2018-09-01-Santana_2018.md\r\n"
     ]
    }
   ],
   "source": [
    "!ls ../_publications/"
   ]
  },
  {
   "cell_type": "code",
   "execution_count": 7,
   "metadata": {},
   "outputs": [
    {
     "name": "stdout",
     "output_type": "stream",
     "text": [
      "---\r\n",
      "title: \"Paper Title Number 1\"\r\n",
      "collection: publications\r\n",
      "permalink: /publication/2009-10-01-paper-title-number-1\r\n",
      "excerpt: 'This paper is about the number 1. The number 2 is left for future work.'\r\n",
      "date: 2009-10-01\r\n",
      "venue: 'Journal 1'\r\n",
      "paperurl: 'http://academicpages.github.io/files/paper1.pdf'\r\n",
      "citation: 'Your Name, You. (2009). &quot;Paper Title Number 1.&quot; <i>Journal 1</i>. 1(1).'\r\n",
      "---\r\n",
      "This paper is about the number 1. The number 2 is left for future work.\r\n",
      "\r\n",
      "[Download paper here](http://academicpages.github.io/files/paper1.pdf)\r\n",
      "\r\n",
      "Recommended citation: Your Name, You. (2009). \"Paper Title Number 1.\" <i>Journal 1</i>. 1(1)."
     ]
    }
   ],
   "source": [
    "!cat ../_publications/2009-10-01-paper-title-number-1.md"
   ]
  },
  {
   "cell_type": "code",
   "execution_count": null,
   "metadata": {
    "collapsed": true
   },
   "outputs": [],
   "source": []
  }
 ],
 "metadata": {
  "kernelspec": {
   "display_name": "Python 3",
   "language": "python",
   "name": "python3"
  },
  "language_info": {
   "codemirror_mode": {
    "name": "ipython",
    "version": 3
   },
   "file_extension": ".py",
   "mimetype": "text/x-python",
   "name": "python",
   "nbconvert_exporter": "python",
   "pygments_lexer": "ipython3",
   "version": "3.7.0"
  }
 },
 "nbformat": 4,
 "nbformat_minor": 1
}
