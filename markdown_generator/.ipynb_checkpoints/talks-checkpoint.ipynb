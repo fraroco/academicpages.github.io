{
 "cells": [
  {
   "cell_type": "markdown",
   "metadata": {},
   "source": [
    "# Talks markdown generator for academicpages\n",
    "\n",
    "Takes a TSV of talks with metadata and converts them for use with [academicpages.github.io](academicpages.github.io). This is an interactive Jupyter notebook ([see more info here](http://jupyter-notebook-beginner-guide.readthedocs.io/en/latest/what_is_jupyter.html)). The core python code is also in `talks.py`. Run either from the `markdown_generator` folder after replacing `talks.tsv` with one containing your data.\n",
    "\n",
    "TODO: Make this work with BibTex and other databases, rather than Stuart's non-standard TSV format and citation style."
   ]
  },
  {
   "cell_type": "code",
   "execution_count": 8,
   "metadata": {},
   "outputs": [],
   "source": [
    "import pandas as pd\n",
    "import os"
   ]
  },
  {
   "cell_type": "markdown",
   "metadata": {},
   "source": [
    "## Data format\n",
    "\n",
    "The TSV needs to have the following columns: title, type, url_slug, venue, date, location, talk_url, description, with a header at the top. Many of these fields can be blank, but the columns must be in the TSV.\n",
    "\n",
    "- Fields that cannot be blank: `title`, `url_slug`, `date`. All else can be blank. `type` defaults to \"Talk\" \n",
    "- `date` must be formatted as YYYY-MM-DD.\n",
    "- `url_slug` will be the descriptive part of the .md file and the permalink URL for the page about the paper. \n",
    "    - The .md file will be `YYYY-MM-DD-[url_slug].md` and the permalink will be `https://[yourdomain]/talks/YYYY-MM-DD-[url_slug]`\n",
    "    - The combination of `url_slug` and `date` must be unique, as it will be the basis for your filenames\n",
    "\n",
    "This is how the raw file looks (it doesn't look pretty, use a spreadsheet or other program to edit and create)."
   ]
  },
  {
   "cell_type": "code",
   "execution_count": 9,
   "metadata": {},
   "outputs": [
    {
     "name": "stdout",
     "output_type": "stream",
     "text": [
      "title\ttype\turl_slug\tvenue\tdate\tlocation\ttalk_url\tdescription\r\n",
      "A new cyclic nucleotide binding domain in sperm-specific sodium proton exchanger studied by a novel FRET-based binding assay\tConference proceedings talk\tmerida\tCell Signaling Networks 2011, 13th IUBMB Conference, 1st PABMB Conference & 3rd Meetings of the Signal Transduction & Oxidative Stress Branches of SMB\t2011-10-22\tMerida, Yucatán. México\t\t\r\n",
      "FRET-based FRET-based assay involving a cyclic nucleotide binding domain: its advantages over Anisotropy-based assay.\tConference proceedings talk\tmaf13\tMAF 13,13th Conference on Methods and Applications of Fluorescence\t2013-09-08\tGenove, Italy\t\t\r\n",
      "Improvement of the FRET-based binding assay for cyclic nucleotides: the advantage of using a large Stokes shift fluorescent protein.\tConference proceedings talk\tmaf13-2\tMAF 13,13th Conference on Methods and Applications of Fluorescence\t2013-09-08\tGenove, Italy\t\t\r\n",
      "FRET-based FRET-based assay involving a cyclic nucleotide binding domain: its advantages over Anisotropy-based assay.\tConference proceedings talk\tbf\tBiophysical society 58th Annual Meeting\t2014-02-01\tSan Francisco, California. US\t\t\r\n",
      "Phylogenetic study of sperm-specific Na+/H+ exchanger\tConference proceedings talk\tbq\tXXX meeting of the national biochemical society\t2014-09-01\tGuadalajara, Jalisto. México\t\t\r\n",
      "The mysterious evolution of spermatozoa: a sperm-specific proteins mosaic distribution\tConference proceedings talk\tgc\tFertilization and Activation of Development. Gordon Research Conference\t2015-07-19\tHolderness, New Hampshire. US\t\t\r\n"
     ]
    }
   ],
   "source": [
    "!cat talks.tsv"
   ]
  },
  {
   "cell_type": "markdown",
   "metadata": {},
   "source": [
    "## Import TSV\n",
    "\n",
    "Pandas makes this easy with the read_csv function. We are using a TSV, so we specify the separator as a tab, or `\\t`.\n",
    "\n",
    "I found it important to put this data in a tab-separated values format, because there are a lot of commas in this kind of data and comma-separated values can get messed up. However, you can modify the import statement, as pandas also has read_excel(), read_json(), and others."
   ]
  },
  {
   "cell_type": "code",
   "execution_count": 10,
   "metadata": {},
   "outputs": [
    {
     "data": {
      "text/html": [
       "<div>\n",
       "<style scoped>\n",
       "    .dataframe tbody tr th:only-of-type {\n",
       "        vertical-align: middle;\n",
       "    }\n",
       "\n",
       "    .dataframe tbody tr th {\n",
       "        vertical-align: top;\n",
       "    }\n",
       "\n",
       "    .dataframe thead th {\n",
       "        text-align: right;\n",
       "    }\n",
       "</style>\n",
       "<table border=\"1\" class=\"dataframe\">\n",
       "  <thead>\n",
       "    <tr style=\"text-align: right;\">\n",
       "      <th></th>\n",
       "      <th>title</th>\n",
       "      <th>type</th>\n",
       "      <th>url_slug</th>\n",
       "      <th>venue</th>\n",
       "      <th>date</th>\n",
       "      <th>location</th>\n",
       "      <th>talk_url</th>\n",
       "      <th>description</th>\n",
       "    </tr>\n",
       "  </thead>\n",
       "  <tbody>\n",
       "    <tr>\n",
       "      <th>0</th>\n",
       "      <td>A new cyclic nucleotide binding domain in sper...</td>\n",
       "      <td>Conference proceedings talk</td>\n",
       "      <td>merida</td>\n",
       "      <td>Cell Signaling Networks 2011, 13th IUBMB Confe...</td>\n",
       "      <td>2011-10-22</td>\n",
       "      <td>Merida, Yucatán. México</td>\n",
       "      <td>NaN</td>\n",
       "      <td>NaN</td>\n",
       "    </tr>\n",
       "    <tr>\n",
       "      <th>1</th>\n",
       "      <td>FRET-based FRET-based assay involving a cyclic...</td>\n",
       "      <td>Conference proceedings talk</td>\n",
       "      <td>maf13</td>\n",
       "      <td>MAF 13,13th Conference on Methods and Applicat...</td>\n",
       "      <td>2013-09-08</td>\n",
       "      <td>Genove, Italy</td>\n",
       "      <td>NaN</td>\n",
       "      <td>NaN</td>\n",
       "    </tr>\n",
       "    <tr>\n",
       "      <th>2</th>\n",
       "      <td>Improvement of the FRET-based binding assay fo...</td>\n",
       "      <td>Conference proceedings talk</td>\n",
       "      <td>maf13-2</td>\n",
       "      <td>MAF 13,13th Conference on Methods and Applicat...</td>\n",
       "      <td>2013-09-08</td>\n",
       "      <td>Genove, Italy</td>\n",
       "      <td>NaN</td>\n",
       "      <td>NaN</td>\n",
       "    </tr>\n",
       "    <tr>\n",
       "      <th>3</th>\n",
       "      <td>FRET-based FRET-based assay involving a cyclic...</td>\n",
       "      <td>Conference proceedings talk</td>\n",
       "      <td>bf</td>\n",
       "      <td>Biophysical society 58th Annual Meeting</td>\n",
       "      <td>2014-02-01</td>\n",
       "      <td>San Francisco, California. US</td>\n",
       "      <td>NaN</td>\n",
       "      <td>NaN</td>\n",
       "    </tr>\n",
       "    <tr>\n",
       "      <th>4</th>\n",
       "      <td>Phylogenetic study of sperm-specific Na+/H+ ex...</td>\n",
       "      <td>Conference proceedings talk</td>\n",
       "      <td>bq</td>\n",
       "      <td>XXX meeting of the national biochemical society</td>\n",
       "      <td>2014-09-01</td>\n",
       "      <td>Guadalajara, Jalisto. México</td>\n",
       "      <td>NaN</td>\n",
       "      <td>NaN</td>\n",
       "    </tr>\n",
       "    <tr>\n",
       "      <th>5</th>\n",
       "      <td>The mysterious evolution of spermatozoa: a spe...</td>\n",
       "      <td>Conference proceedings talk</td>\n",
       "      <td>gc</td>\n",
       "      <td>Fertilization and Activation of Development. G...</td>\n",
       "      <td>2015-07-19</td>\n",
       "      <td>Holderness, New Hampshire. US</td>\n",
       "      <td>NaN</td>\n",
       "      <td>NaN</td>\n",
       "    </tr>\n",
       "  </tbody>\n",
       "</table>\n",
       "</div>"
      ],
      "text/plain": [
       "                                               title  \\\n",
       "0  A new cyclic nucleotide binding domain in sper...   \n",
       "1  FRET-based FRET-based assay involving a cyclic...   \n",
       "2  Improvement of the FRET-based binding assay fo...   \n",
       "3  FRET-based FRET-based assay involving a cyclic...   \n",
       "4  Phylogenetic study of sperm-specific Na+/H+ ex...   \n",
       "5  The mysterious evolution of spermatozoa: a spe...   \n",
       "\n",
       "                          type url_slug  \\\n",
       "0  Conference proceedings talk   merida   \n",
       "1  Conference proceedings talk    maf13   \n",
       "2  Conference proceedings talk  maf13-2   \n",
       "3  Conference proceedings talk       bf   \n",
       "4  Conference proceedings talk       bq   \n",
       "5  Conference proceedings talk       gc   \n",
       "\n",
       "                                               venue        date  \\\n",
       "0  Cell Signaling Networks 2011, 13th IUBMB Confe...  2011-10-22   \n",
       "1  MAF 13,13th Conference on Methods and Applicat...  2013-09-08   \n",
       "2  MAF 13,13th Conference on Methods and Applicat...  2013-09-08   \n",
       "3            Biophysical society 58th Annual Meeting  2014-02-01   \n",
       "4    XXX meeting of the national biochemical society  2014-09-01   \n",
       "5  Fertilization and Activation of Development. G...  2015-07-19   \n",
       "\n",
       "                        location  talk_url  description  \n",
       "0        Merida, Yucatán. México       NaN          NaN  \n",
       "1                  Genove, Italy       NaN          NaN  \n",
       "2                  Genove, Italy       NaN          NaN  \n",
       "3  San Francisco, California. US       NaN          NaN  \n",
       "4   Guadalajara, Jalisto. México       NaN          NaN  \n",
       "5  Holderness, New Hampshire. US       NaN          NaN  "
      ]
     },
     "execution_count": 10,
     "metadata": {},
     "output_type": "execute_result"
    }
   ],
   "source": [
    "talks = pd.read_csv(\"talks.tsv\", sep=\"\\t\", header=0)\n",
    "talks"
   ]
  },
  {
   "cell_type": "markdown",
   "metadata": {},
   "source": [
    "## Escape special characters\n",
    "\n",
    "YAML is very picky about how it takes a valid string, so we are replacing single and double quotes (and ampersands) with their HTML encoded equivilents. This makes them look not so readable in raw format, but they are parsed and rendered nicely."
   ]
  },
  {
   "cell_type": "code",
   "execution_count": 11,
   "metadata": {},
   "outputs": [],
   "source": [
    "html_escape_table = {\n",
    "    \"&\": \"&amp;\",\n",
    "    '\"': \"&quot;\",\n",
    "    \"'\": \"&apos;\"\n",
    "    }\n",
    "\n",
    "def html_escape(text):\n",
    "    if type(text) is str:\n",
    "        return \"\".join(html_escape_table.get(c,c) for c in text)\n",
    "    else:\n",
    "        return \"False\""
   ]
  },
  {
   "cell_type": "markdown",
   "metadata": {},
   "source": [
    "## Creating the markdown files\n",
    "\n",
    "This is where the heavy lifting is done. This loops through all the rows in the TSV dataframe, then starts to concatentate a big string (```md```) that contains the markdown for each type. It does the YAML metadata first, then does the description for the individual page."
   ]
  },
  {
   "cell_type": "code",
   "execution_count": 12,
   "metadata": {},
   "outputs": [],
   "source": [
    "loc_dict = {}\n",
    "\n",
    "for row, item in talks.iterrows():\n",
    "    \n",
    "    md_filename = str(item.date) + \"-\" + item.url_slug + \".md\"\n",
    "    html_filename = str(item.date) + \"-\" + item.url_slug \n",
    "    year = item.date[:4]\n",
    "    \n",
    "    md = \"---\\ntitle: \\\"\"   + item.title + '\"\\n'\n",
    "    md += \"collection: talks\" + \"\\n\"\n",
    "    \n",
    "    if len(str(item.type)) > 3:\n",
    "        md += 'type: \"' + item.type + '\"\\n'\n",
    "    else:\n",
    "        md += 'type: \"Talk\"\\n'\n",
    "    \n",
    "    md += \"permalink: /talks/\" + html_filename + \"\\n\"\n",
    "    \n",
    "    if len(str(item.venue)) > 3:\n",
    "        md += 'venue: \"' + item.venue + '\"\\n'\n",
    "        \n",
    "    if len(str(item.location)) > 3:\n",
    "        md += \"date: \" + str(item.date) + \"\\n\"\n",
    "    \n",
    "    if len(str(item.location)) > 3:\n",
    "        md += 'location: \"' + str(item.location) + '\"\\n'\n",
    "           \n",
    "    md += \"---\\n\"\n",
    "    \n",
    "    \n",
    "    if len(str(item.talk_url)) > 3:\n",
    "        md += \"\\n[More information here](\" + item.talk_url + \")\\n\" \n",
    "        \n",
    "    \n",
    "    if len(str(item.description)) > 3:\n",
    "        md += \"\\n\" + html_escape(item.description) + \"\\n\"\n",
    "        \n",
    "        \n",
    "    md_filename = os.path.basename(md_filename)\n",
    "    #print(md)\n",
    "    \n",
    "    with open(\"../_talks/\" + md_filename, 'w') as f:\n",
    "        f.write(md)"
   ]
  },
  {
   "cell_type": "markdown",
   "metadata": {},
   "source": [
    "These files are in the talks directory, one directory below where we're working from."
   ]
  },
  {
   "cell_type": "code",
   "execution_count": 13,
   "metadata": {},
   "outputs": [
    {
     "name": "stdout",
     "output_type": "stream",
     "text": [
      "2011-10-22-merida.md\t  2013-09-08-maf13.md\t2014-09-01-bq.md\r\n",
      "2012-03-01-talk-1.md\t  2014-02-01-bf.md\t2015-07-19-gc.md\r\n",
      "2013-03-01-tutorial-1.md  2014-02-01-talk-2.md\r\n",
      "2013-09-08-maf13-2.md\t  2014-03-01-talk-3.md\r\n"
     ]
    }
   ],
   "source": [
    "!ls ../_talks"
   ]
  },
  {
   "cell_type": "code",
   "execution_count": 14,
   "metadata": {},
   "outputs": [
    {
     "name": "stdout",
     "output_type": "stream",
     "text": [
      "---\r\n",
      "title: \"Tutorial 1 on Relevant Topic in Your Field\"\r\n",
      "collection: talks\r\n",
      "type: \"Tutorial\"\r\n",
      "permalink: /talks/2013-03-01-tutorial-1\r\n",
      "venue: \"UC-Berkeley Institute for Testing Science\"\r\n",
      "date: 2013-03-01\r\n",
      "location: \"Berkeley CA, USA\"\r\n",
      "---\r\n",
      "\r\n",
      "[More information here](http://exampleurl.com)\r\n",
      "\r\n",
      "This is a description of your tutorial, note the different field in type. This is a markdown files that can be all markdown-ified like any other post. Yay markdown!\r\n"
     ]
    }
   ],
   "source": [
    "!cat ../_talks/2013-03-01-tutorial-1.md"
   ]
  },
  {
   "cell_type": "code",
   "execution_count": null,
   "metadata": {},
   "outputs": [],
   "source": []
  }
 ],
 "metadata": {
  "kernelspec": {
   "display_name": "Python 3",
   "language": "python",
   "name": "python3"
  },
  "language_info": {
   "codemirror_mode": {
    "name": "ipython",
    "version": 3
   },
   "file_extension": ".py",
   "mimetype": "text/x-python",
   "name": "python",
   "nbconvert_exporter": "python",
   "pygments_lexer": "ipython3",
   "version": "3.7.0"
  }
 },
 "nbformat": 4,
 "nbformat_minor": 1
}
