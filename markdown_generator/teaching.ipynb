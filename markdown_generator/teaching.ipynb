{
 "cells": [
  {
   "cell_type": "markdown",
   "metadata": {},
   "source": [
    "# Talks markdown generator for academicpages\n",
    "\n",
    "Takes a TSV of talks with metadata and converts them for use with [academicpages.github.io](academicpages.github.io). This is an interactive Jupyter notebook ([see more info here](http://jupyter-notebook-beginner-guide.readthedocs.io/en/latest/what_is_jupyter.html)). The core python code is also in `talks.py`. Run either from the `markdown_generator` folder after replacing `talks.tsv` with one containing your data.\n",
    "\n",
    "TODO: Make this work with BibTex and other databases, rather than Stuart's non-standard TSV format and citation style."
   ]
  },
  {
   "cell_type": "code",
   "execution_count": 8,
   "metadata": {},
   "outputs": [],
   "source": [
    "import pandas as pd\n",
    "import os"
   ]
  },
  {
   "cell_type": "markdown",
   "metadata": {},
   "source": [
    "## Data format\n",
    "\n",
    "The TSV needs to have the following columns: title, type, url_slug, venue, date, location, talk_url, description, with a header at the top. Many of these fields can be blank, but the columns must be in the TSV.\n",
    "\n",
    "- Fields that cannot be blank: `title`, `url_slug`, `date`. All else can be blank. `type` defaults to \"Talk\" \n",
    "- `date` must be formatted as YYYY-MM-DD.\n",
    "- `url_slug` will be the descriptive part of the .md file and the permalink URL for the page about the paper. \n",
    "    - The .md file will be `YYYY-MM-DD-[url_slug].md` and the permalink will be `https://[yourdomain]/talks/YYYY-MM-DD-[url_slug]`\n",
    "    - The combination of `url_slug` and `date` must be unique, as it will be the basis for your filenames\n",
    "\n",
    "This is how the raw file looks (it doesn't look pretty, use a spreadsheet or other program to edit and create)."
   ]
  },
  {
   "cell_type": "code",
   "execution_count": 9,
   "metadata": {},
   "outputs": [
    {
     "name": "stdout",
     "output_type": "stream",
     "text": [
      "title\ttype\turl_slug\tvenue\tdate\tlocation\tteaching_url\tdescription\r\n",
      "Basic principles and applications in biological systems\tteaching\tt1\tInstituto de biotecnología, UNAM\t2013-08-01\tCuernavaca, Morelos. México\t\t\r\n",
      "Fluorescence in the study of proteins. Theoretical course of Introduction to study of proteins\tteaching\tt2\tInstituto de biotecnología, UNAM\t2014-03-01\tCuernavaca, Morelos. México\t\t\r\n",
      "Fluorescence correlation spectroscopy. Data analysis with simFCS\tteaching\tt3\tInstituto de biotecnología, UNAM\t2014-03-01\tCuernavaca, Morelos. México\t\t\r\n",
      "Recent fluorescent methodologies to study protein-protein interaction\tteaching\tt4\tInstituto de biotecnología, UNAM\t2014-10-01\tCuernavaca, Morelos. México\t\t\r\n",
      "Fluorescence resonant energy transfer\tteaching\tt5\tInstituto de biotecnología, UNAM\t2015-03-01\tCuernavaca, Morelos. México\t\t\r\n",
      "Recent fluorescent methodologies to study protein-protein interaction\tteaching\tt6\tInstituto de biotecnología, UNAM\t2016-10-01\tCuernavaca, Morelos. México\t\t\r\n",
      "Recent fluorescent methodologies to study protein-protein interaction\tteaching\tt7\tInstituto de biotecnología, UNAM\t2017-10-01\tCuernavaca, Morelos. México\t\t\r\n",
      "Recent fluorescent methodologies to study protein-protein interaction\tteaching\tt8\tInstituto de biotecnología, UNAM\t2018-10-01\tCuernavaca, Morelos. México\t\t\r\n"
     ]
    }
   ],
   "source": [
    "!cat teaching.tsv"
   ]
  },
  {
   "cell_type": "markdown",
   "metadata": {},
   "source": [
    "## Import TSV\n",
    "\n",
    "Pandas makes this easy with the read_csv function. We are using a TSV, so we specify the separator as a tab, or `\\t`.\n",
    "\n",
    "I found it important to put this data in a tab-separated values format, because there are a lot of commas in this kind of data and comma-separated values can get messed up. However, you can modify the import statement, as pandas also has read_excel(), read_json(), and others."
   ]
  },
  {
   "cell_type": "code",
   "execution_count": 10,
   "metadata": {},
   "outputs": [
    {
     "data": {
      "text/html": [
       "<div>\n",
       "<style scoped>\n",
       "    .dataframe tbody tr th:only-of-type {\n",
       "        vertical-align: middle;\n",
       "    }\n",
       "\n",
       "    .dataframe tbody tr th {\n",
       "        vertical-align: top;\n",
       "    }\n",
       "\n",
       "    .dataframe thead th {\n",
       "        text-align: right;\n",
       "    }\n",
       "</style>\n",
       "<table border=\"1\" class=\"dataframe\">\n",
       "  <thead>\n",
       "    <tr style=\"text-align: right;\">\n",
       "      <th></th>\n",
       "      <th>title</th>\n",
       "      <th>type</th>\n",
       "      <th>url_slug</th>\n",
       "      <th>venue</th>\n",
       "      <th>date</th>\n",
       "      <th>location</th>\n",
       "      <th>teaching_url</th>\n",
       "      <th>description</th>\n",
       "    </tr>\n",
       "  </thead>\n",
       "  <tbody>\n",
       "    <tr>\n",
       "      <th>0</th>\n",
       "      <td>Basic principles and applications in biologica...</td>\n",
       "      <td>teaching</td>\n",
       "      <td>t1</td>\n",
       "      <td>Instituto de biotecnología, UNAM</td>\n",
       "      <td>2013-08-01</td>\n",
       "      <td>Cuernavaca, Morelos. México</td>\n",
       "      <td>NaN</td>\n",
       "      <td>NaN</td>\n",
       "    </tr>\n",
       "    <tr>\n",
       "      <th>1</th>\n",
       "      <td>Fluorescence in the study of proteins. Theoret...</td>\n",
       "      <td>teaching</td>\n",
       "      <td>t2</td>\n",
       "      <td>Instituto de biotecnología, UNAM</td>\n",
       "      <td>2014-03-01</td>\n",
       "      <td>Cuernavaca, Morelos. México</td>\n",
       "      <td>NaN</td>\n",
       "      <td>NaN</td>\n",
       "    </tr>\n",
       "    <tr>\n",
       "      <th>2</th>\n",
       "      <td>Fluorescence correlation spectroscopy. Data an...</td>\n",
       "      <td>teaching</td>\n",
       "      <td>t3</td>\n",
       "      <td>Instituto de biotecnología, UNAM</td>\n",
       "      <td>2014-03-01</td>\n",
       "      <td>Cuernavaca, Morelos. México</td>\n",
       "      <td>NaN</td>\n",
       "      <td>NaN</td>\n",
       "    </tr>\n",
       "    <tr>\n",
       "      <th>3</th>\n",
       "      <td>Recent fluorescent methodologies to study prot...</td>\n",
       "      <td>teaching</td>\n",
       "      <td>t4</td>\n",
       "      <td>Instituto de biotecnología, UNAM</td>\n",
       "      <td>2014-10-01</td>\n",
       "      <td>Cuernavaca, Morelos. México</td>\n",
       "      <td>NaN</td>\n",
       "      <td>NaN</td>\n",
       "    </tr>\n",
       "    <tr>\n",
       "      <th>4</th>\n",
       "      <td>Fluorescence resonant energy transfer</td>\n",
       "      <td>teaching</td>\n",
       "      <td>t5</td>\n",
       "      <td>Instituto de biotecnología, UNAM</td>\n",
       "      <td>2015-03-01</td>\n",
       "      <td>Cuernavaca, Morelos. México</td>\n",
       "      <td>NaN</td>\n",
       "      <td>NaN</td>\n",
       "    </tr>\n",
       "    <tr>\n",
       "      <th>5</th>\n",
       "      <td>Recent fluorescent methodologies to study prot...</td>\n",
       "      <td>teaching</td>\n",
       "      <td>t6</td>\n",
       "      <td>Instituto de biotecnología, UNAM</td>\n",
       "      <td>2016-10-01</td>\n",
       "      <td>Cuernavaca, Morelos. México</td>\n",
       "      <td>NaN</td>\n",
       "      <td>NaN</td>\n",
       "    </tr>\n",
       "    <tr>\n",
       "      <th>6</th>\n",
       "      <td>Recent fluorescent methodologies to study prot...</td>\n",
       "      <td>teaching</td>\n",
       "      <td>t7</td>\n",
       "      <td>Instituto de biotecnología, UNAM</td>\n",
       "      <td>2017-10-01</td>\n",
       "      <td>Cuernavaca, Morelos. México</td>\n",
       "      <td>NaN</td>\n",
       "      <td>NaN</td>\n",
       "    </tr>\n",
       "    <tr>\n",
       "      <th>7</th>\n",
       "      <td>Recent fluorescent methodologies to study prot...</td>\n",
       "      <td>teaching</td>\n",
       "      <td>t8</td>\n",
       "      <td>Instituto de biotecnología, UNAM</td>\n",
       "      <td>2018-10-01</td>\n",
       "      <td>Cuernavaca, Morelos. México</td>\n",
       "      <td>NaN</td>\n",
       "      <td>NaN</td>\n",
       "    </tr>\n",
       "  </tbody>\n",
       "</table>\n",
       "</div>"
      ],
      "text/plain": [
       "                                               title      type url_slug  \\\n",
       "0  Basic principles and applications in biologica...  teaching       t1   \n",
       "1  Fluorescence in the study of proteins. Theoret...  teaching       t2   \n",
       "2  Fluorescence correlation spectroscopy. Data an...  teaching       t3   \n",
       "3  Recent fluorescent methodologies to study prot...  teaching       t4   \n",
       "4              Fluorescence resonant energy transfer  teaching       t5   \n",
       "5  Recent fluorescent methodologies to study prot...  teaching       t6   \n",
       "6  Recent fluorescent methodologies to study prot...  teaching       t7   \n",
       "7  Recent fluorescent methodologies to study prot...  teaching       t8   \n",
       "\n",
       "                              venue        date                     location  \\\n",
       "0  Instituto de biotecnología, UNAM  2013-08-01  Cuernavaca, Morelos. México   \n",
       "1  Instituto de biotecnología, UNAM  2014-03-01  Cuernavaca, Morelos. México   \n",
       "2  Instituto de biotecnología, UNAM  2014-03-01  Cuernavaca, Morelos. México   \n",
       "3  Instituto de biotecnología, UNAM  2014-10-01  Cuernavaca, Morelos. México   \n",
       "4  Instituto de biotecnología, UNAM  2015-03-01  Cuernavaca, Morelos. México   \n",
       "5  Instituto de biotecnología, UNAM  2016-10-01  Cuernavaca, Morelos. México   \n",
       "6  Instituto de biotecnología, UNAM  2017-10-01  Cuernavaca, Morelos. México   \n",
       "7  Instituto de biotecnología, UNAM  2018-10-01  Cuernavaca, Morelos. México   \n",
       "\n",
       "   teaching_url  description  \n",
       "0           NaN          NaN  \n",
       "1           NaN          NaN  \n",
       "2           NaN          NaN  \n",
       "3           NaN          NaN  \n",
       "4           NaN          NaN  \n",
       "5           NaN          NaN  \n",
       "6           NaN          NaN  \n",
       "7           NaN          NaN  "
      ]
     },
     "execution_count": 10,
     "metadata": {},
     "output_type": "execute_result"
    }
   ],
   "source": [
    "teaching = pd.read_csv(\"teaching.tsv\", sep=\"\\t\", header=0)\n",
    "teaching"
   ]
  },
  {
   "cell_type": "markdown",
   "metadata": {},
   "source": [
    "## Escape special characters\n",
    "\n",
    "YAML is very picky about how it takes a valid string, so we are replacing single and double quotes (and ampersands) with their HTML encoded equivilents. This makes them look not so readable in raw format, but they are parsed and rendered nicely."
   ]
  },
  {
   "cell_type": "code",
   "execution_count": 11,
   "metadata": {},
   "outputs": [],
   "source": [
    "html_escape_table = {\n",
    "    \"&\": \"&amp;\",\n",
    "    '\"': \"&quot;\",\n",
    "    \"'\": \"&apos;\"\n",
    "    }\n",
    "\n",
    "def html_escape(text):\n",
    "    if type(text) is str:\n",
    "        return \"\".join(html_escape_table.get(c,c) for c in text)\n",
    "    else:\n",
    "        return \"False\""
   ]
  },
  {
   "cell_type": "markdown",
   "metadata": {},
   "source": [
    "## Creating the markdown files\n",
    "\n",
    "This is where the heavy lifting is done. This loops through all the rows in the TSV dataframe, then starts to concatentate a big string (```md```) that contains the markdown for each type. It does the YAML metadata first, then does the description for the individual page."
   ]
  },
  {
   "cell_type": "code",
   "execution_count": 12,
   "metadata": {},
   "outputs": [],
   "source": [
    "loc_dict = {}\n",
    "\n",
    "for row, item in teaching.iterrows():\n",
    "    \n",
    "    md_filename = str(item.date) + \"-\" + item.url_slug + \".md\"\n",
    "    html_filename = str(item.date) + \"-\" + item.url_slug \n",
    "    year = item.date[:4]\n",
    "    \n",
    "    md = \"---\\ntitle: \\\"\"   + item.title + '\"\\n'\n",
    "    md += \"collection: teaching\" + \"\\n\"\n",
    "    \n",
    "    if len(str(item.type)) > 3:\n",
    "        md += 'type: \"' + item.type + '\"\\n'\n",
    "    else:\n",
    "        md += 'type: \"Class\"\\n'\n",
    "    \n",
    "    md += \"permalink: /teaching/\" + html_filename + \"\\n\"\n",
    "    \n",
    "    if len(str(item.venue)) > 3:\n",
    "        md += 'venue: \"' + item.venue + '\"\\n'\n",
    "        \n",
    "    if len(str(item.location)) > 3:\n",
    "        md += \"date: \" + str(item.date) + \"\\n\"\n",
    "    \n",
    "    if len(str(item.location)) > 3:\n",
    "        md += 'location: \"' + str(item.location) + '\"\\n'\n",
    "           \n",
    "    md += \"---\\n\"\n",
    "    \n",
    "    \n",
    "    if len(str(item.teaching_url)) > 3:\n",
    "        md += \"\\n[More information here](\" + item.teaching_url + \")\\n\" \n",
    "        \n",
    "    \n",
    "    if len(str(item.description)) > 3:\n",
    "        md += \"\\n\" + html_escape(item.description) + \"\\n\"\n",
    "        \n",
    "        \n",
    "    md_filename = os.path.basename(md_filename)\n",
    "    #print(md)\n",
    "    \n",
    "    with open(\"../_teaching/\" + md_filename, 'w') as f:\n",
    "        f.write(md)"
   ]
  },
  {
   "cell_type": "markdown",
   "metadata": {},
   "source": [
    "These files are in the talks directory, one directory below where we're working from."
   ]
  },
  {
   "cell_type": "code",
   "execution_count": 13,
   "metadata": {},
   "outputs": [
    {
     "name": "stdout",
     "output_type": "stream",
     "text": [
      "2013-08-01-t1.md  2014-spring-teaching-1.md  2017-10-01-t7.md\r\n",
      "2014-03-01-t2.md  2015-03-01-t5.md\t     2018-10-01-t8.md\r\n",
      "2014-03-01-t3.md  2015-spring-teaching-2.md\r\n",
      "2014-10-01-t4.md  2016-10-01-t6.md\r\n"
     ]
    }
   ],
   "source": [
    "!ls ../_teaching"
   ]
  },
  {
   "cell_type": "code",
   "execution_count": 14,
   "metadata": {},
   "outputs": [
    {
     "name": "stdout",
     "output_type": "stream",
     "text": [
      "cat: ../_teaching/2013-03-01-tutorial-1.md: No such file or directory\r\n"
     ]
    }
   ],
   "source": [
    "!cat ../_teaching/2013-03-01-tutorial-1.md"
   ]
  },
  {
   "cell_type": "code",
   "execution_count": null,
   "metadata": {},
   "outputs": [],
   "source": []
  },
  {
   "cell_type": "code",
   "execution_count": null,
   "metadata": {},
   "outputs": [],
   "source": []
  },
  {
   "cell_type": "code",
   "execution_count": null,
   "metadata": {},
   "outputs": [],
   "source": []
  }
 ],
 "metadata": {
  "kernelspec": {
   "display_name": "Python 3",
   "language": "python",
   "name": "python3"
  },
  "language_info": {
   "codemirror_mode": {
    "name": "ipython",
    "version": 3
   },
   "file_extension": ".py",
   "mimetype": "text/x-python",
   "name": "python",
   "nbconvert_exporter": "python",
   "pygments_lexer": "ipython3",
   "version": "3.7.0"
  }
 },
 "nbformat": 4,
 "nbformat_minor": 1
}
