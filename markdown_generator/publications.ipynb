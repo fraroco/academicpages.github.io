{
 "cells": [
  {
   "cell_type": "markdown",
   "metadata": {},
   "source": [
    "# Publications markdown generator for academicpages\n",
    "\n",
    "Takes a TSV of publications with metadata and converts them for use with [academicpages.github.io](academicpages.github.io). This is an interactive Jupyter notebook ([see more info here](http://jupyter-notebook-beginner-guide.readthedocs.io/en/latest/what_is_jupyter.html)). The core python code is also in `publications.py`. Run either from the `markdown_generator` folder after replacing `publications.tsv` with one containing your data.\n",
    "\n",
    "TODO: Make this work with BibTex and other databases of citations, rather than Stuart's non-standard TSV format and citation style.\n"
   ]
  },
  {
   "cell_type": "markdown",
   "metadata": {},
   "source": [
    "## Data format\n",
    "\n",
    "The TSV needs to have the following columns: pub_date, title, venue, excerpt, citation, site_url, and paper_url, with a header at the top. \n",
    "\n",
    "- `excerpt` and `paper_url` can be blank, but the others must have values. \n",
    "- `pub_date` must be formatted as YYYY-MM-DD.\n",
    "- `url_slug` will be the descriptive part of the .md file and the permalink URL for the page about the paper. The .md file will be `YYYY-MM-DD-[url_slug].md` and the permalink will be `https://[yourdomain]/publications/YYYY-MM-DD-[url_slug]`\n",
    "\n",
    "This is how the raw file looks (it doesn't look pretty, use a spreadsheet or other program to edit and create)."
   ]
  },
  {
   "cell_type": "code",
   "execution_count": 20,
   "metadata": {
    "tags": []
   },
   "outputs": [
    {
     "output_type": "stream",
     "name": "stdout",
     "text": "\n\n\n\n\n\n\n01/12/19\tComparative genomic analysis suggests that the sperm-specific sodium/proton exchanger and soluble adenylyl cyclase are key regulators of CatSper among the Metazoa\tZoological Letters\tCatSper is a sperm-specific calcium ion (Ca2+) channel, which regulates sperm flagellar beating by tuning cytoplasmic Ca2+ concentrations. Although this Ca2+ channel is essential for mammalian fertilization, recent bioinformatics analyses have revealed that genes encoding CatSper are heterogeneously distributed throughout the eukaryotes, including vertebrates. As this channel is activated by cytoplasmic alkalization in mammals and sea urchins, it has been proposed that the sperm-specific Na+ /H+ exchanger (sNHE, a product of the SLC9C gene family) positively regulates its activity. In mouse, sNHE is functionally coupled to soluble adenylyl cyclase (sAC). CatSper, sNHE, and sAC have thus\tRomero <i>et al.,</i> 2019\tRomero_2019\thttp://fraroco.github.io/files/romero_2020.pdf"
    }
   ],
   "source": [
    "!cat publications.tsv"
   ]
  },
  {
   "cell_type": "markdown",
   "metadata": {},
   "source": [
    "## Import pandas\n",
    "\n",
    "We are using the very handy pandas library for dataframes."
   ]
  },
  {
   "cell_type": "code",
   "execution_count": 21,
   "metadata": {},
   "outputs": [],
   "source": [
    "import pandas as pd"
   ]
  },
  {
   "cell_type": "markdown",
   "metadata": {},
   "source": [
    "## Import TSV\n",
    "\n",
    "Pandas makes this easy with the read_csv function. We are using a TSV, so we specify the separator as a tab, or `\\t`.\n",
    "\n",
    "I found it important to put this data in a tab-separated values format, because there are a lot of commas in this kind of data and comma-separated values can get messed up. However, you can modify the import statement, as pandas also has read_excel(), read_json(), and others."
   ]
  },
  {
   "cell_type": "code",
   "execution_count": 22,
   "metadata": {},
   "outputs": [
    {
     "output_type": "execute_result",
     "data": {
      "text/plain": "   pub_date                                              title  \\\n0  01/01/16  FRET analysis using sperm-activating peptides ...   \n1  01/07/17  FRET-based binding assay between a fluorescent...   \n2  02/07/14               Intracellular pH in sperm physiology   \n3  01/07/16  CatSper, el canal de Ca2+ que regula el batido...   \n4  01/09/18  Robust evaluation of intermolecular FRET using...   \n5  01/08/19  High potassium seawater inhibits ascidian sper...   \n6  01/12/19  Comparative genomic analysis suggests that the...   \n\n                                               venue  \\\n0                    Journal of Experimental Biology   \n1                                       FEBS Letters   \n2  Biochemical and Biophysical Research Communica...   \n3                  Revista Iberoamericana de Ciencia   \n4                                      BioTechniques   \n5                                             Zygote   \n6                                 Zoological Letters   \n\n                                             excerpt  \\\n0  Long-range cellular communication between the ...   \n1  The cyclic nucleotide-binding domain (CNBD) fu...   \n2  Intracellular pH (pHi) regulation is essential...   \n3  CatSper is a sperm-specific Ca2+ channel. In m...   \n4  Fluorescence (or Förster) resonance energy tra...   \n5  Male gamete chemotaxis towards the female game...   \n6  CatSper is a sperm-specific calcium ion (Ca2+)...   \n\n                                  citation                url_slug  \\\n0      Arcos-Hernández <i>et al.,</i> 2016              Arcos_2016   \n1              Romero <i>et al.,</i> 2017              Romero_2017   \n2           Nishigaki <i>et al., </i> 2014          Nishigaki_2014   \n3           Nishigaki <i>et al., </i> 2016          Nishigaki_2016   \n4        Santana-Calvo <i>et al.,</i> 2018            Santana_2018   \n5  Kinoshita-Terauchi <i>et al., </i> 2019  Kinoshita-Terauch_2019   \n6               Romero <i>et al.,</i> 2019             Romero_2019   \n\n                                           paper_url  \n0  http://fraroco.github.io/files/ArcosC_JEB_2016...  \n1  http://fraroco.github.io/files/FRomero_FEBSLET...  \n2  http://fraroco.github.io/files/NishigakiT_BIC_...  \n3  http://fraroco.github.io/files/NishigakiT_RIC_...  \n4  http://fraroco.github.io/files/Santana-Calvo_B...  \n5  http://fraroco.github.io/files/kinoshita-terau...  \n6     http://fraroco.github.io/files/romero_2020.pdf  ",
      "text/html": "<div>\n<style scoped>\n    .dataframe tbody tr th:only-of-type {\n        vertical-align: middle;\n    }\n\n    .dataframe tbody tr th {\n        vertical-align: top;\n    }\n\n    .dataframe thead th {\n        text-align: right;\n    }\n</style>\n<table border=\"1\" class=\"dataframe\">\n  <thead>\n    <tr style=\"text-align: right;\">\n      <th></th>\n      <th>pub_date</th>\n      <th>title</th>\n      <th>venue</th>\n      <th>excerpt</th>\n      <th>citation</th>\n      <th>url_slug</th>\n      <th>paper_url</th>\n    </tr>\n  </thead>\n  <tbody>\n    <tr>\n      <th>0</th>\n      <td>01/01/16</td>\n      <td>FRET analysis using sperm-activating peptides ...</td>\n      <td>Journal of Experimental Biology</td>\n      <td>Long-range cellular communication between the ...</td>\n      <td>Arcos-Hernández &lt;i&gt;et al.,&lt;/i&gt; 2016</td>\n      <td>Arcos_2016</td>\n      <td>http://fraroco.github.io/files/ArcosC_JEB_2016...</td>\n    </tr>\n    <tr>\n      <th>1</th>\n      <td>01/07/17</td>\n      <td>FRET-based binding assay between a fluorescent...</td>\n      <td>FEBS Letters</td>\n      <td>The cyclic nucleotide-binding domain (CNBD) fu...</td>\n      <td>Romero &lt;i&gt;et al.,&lt;/i&gt; 2017</td>\n      <td>Romero_2017</td>\n      <td>http://fraroco.github.io/files/FRomero_FEBSLET...</td>\n    </tr>\n    <tr>\n      <th>2</th>\n      <td>02/07/14</td>\n      <td>Intracellular pH in sperm physiology</td>\n      <td>Biochemical and Biophysical Research Communica...</td>\n      <td>Intracellular pH (pHi) regulation is essential...</td>\n      <td>Nishigaki &lt;i&gt;et al., &lt;/i&gt; 2014</td>\n      <td>Nishigaki_2014</td>\n      <td>http://fraroco.github.io/files/NishigakiT_BIC_...</td>\n    </tr>\n    <tr>\n      <th>3</th>\n      <td>01/07/16</td>\n      <td>CatSper, el canal de Ca2+ que regula el batido...</td>\n      <td>Revista Iberoamericana de Ciencia</td>\n      <td>CatSper is a sperm-specific Ca2+ channel. In m...</td>\n      <td>Nishigaki &lt;i&gt;et al., &lt;/i&gt; 2016</td>\n      <td>Nishigaki_2016</td>\n      <td>http://fraroco.github.io/files/NishigakiT_RIC_...</td>\n    </tr>\n    <tr>\n      <th>4</th>\n      <td>01/09/18</td>\n      <td>Robust evaluation of intermolecular FRET using...</td>\n      <td>BioTechniques</td>\n      <td>Fluorescence (or Förster) resonance energy tra...</td>\n      <td>Santana-Calvo &lt;i&gt;et al.,&lt;/i&gt; 2018</td>\n      <td>Santana_2018</td>\n      <td>http://fraroco.github.io/files/Santana-Calvo_B...</td>\n    </tr>\n    <tr>\n      <th>5</th>\n      <td>01/08/19</td>\n      <td>High potassium seawater inhibits ascidian sper...</td>\n      <td>Zygote</td>\n      <td>Male gamete chemotaxis towards the female game...</td>\n      <td>Kinoshita-Terauchi &lt;i&gt;et al., &lt;/i&gt; 2019</td>\n      <td>Kinoshita-Terauch_2019</td>\n      <td>http://fraroco.github.io/files/kinoshita-terau...</td>\n    </tr>\n    <tr>\n      <th>6</th>\n      <td>01/12/19</td>\n      <td>Comparative genomic analysis suggests that the...</td>\n      <td>Zoological Letters</td>\n      <td>CatSper is a sperm-specific calcium ion (Ca2+)...</td>\n      <td>Romero &lt;i&gt;et al.,&lt;/i&gt; 2019</td>\n      <td>Romero_2019</td>\n      <td>http://fraroco.github.io/files/romero_2020.pdf</td>\n    </tr>\n  </tbody>\n</table>\n</div>"
     },
     "metadata": {},
     "execution_count": 22
    }
   ],
   "source": [
    "publications = pd.read_csv(\"publications.tsv\", sep=\"\\t\", header=0)\n",
    "publications\n"
   ]
  },
  {
   "cell_type": "markdown",
   "metadata": {},
   "source": [
    "## Escape special characters\n",
    "\n",
    "YAML is very picky about how it takes a valid string, so we are replacing single and double quotes (and ampersands) with their HTML encoded equivilents. This makes them look not so readable in raw format, but they are parsed and rendered nicely."
   ]
  },
  {
   "cell_type": "code",
   "execution_count": 23,
   "metadata": {},
   "outputs": [],
   "source": [
    "html_escape_table = {\n",
    "    \"&\": \"&amp;\",\n",
    "    '\"': \"&quot;\",\n",
    "    \"'\": \"&apos;\"\n",
    "    }\n",
    "\n",
    "def html_escape(text):\n",
    "    \"\"\"Produce entities within text.\"\"\"\n",
    "    return \"\".join(html_escape_table.get(c,c) for c in text)"
   ]
  },
  {
   "cell_type": "markdown",
   "metadata": {},
   "source": [
    "## Creating the markdown files\n",
    "\n",
    "This is where the heavy lifting is done. This loops through all the rows in the TSV dataframe, then starts to concatentate a big string (```md```) that contains the markdown for each type. It does the YAML metadata first, then does the description for the individual page."
   ]
  },
  {
   "cell_type": "code",
   "execution_count": 24,
   "metadata": {},
   "outputs": [],
   "source": [
    "import os\n",
    "for row, item in publications.iterrows():\n",
    "    \n",
    "    md_filename = str(item.pub_date) + \"-\" + item.url_slug + \".md\"\n",
    "    html_filename = str(item.pub_date) + \"-\" + item.url_slug\n",
    "    year = item.pub_date[:4]\n",
    "    \n",
    "    ## YAML variables\n",
    "    \n",
    "    md = \"---\\ntitle: \\\"\"   + item.title + '\"\\n'\n",
    "    \n",
    "    md += \"\"\"collection: publications\"\"\"\n",
    "    \n",
    "    md += \"\"\"\\npermalink: /publication/\"\"\" + html_filename\n",
    "    \n",
    "    if len(str(item.excerpt)) > 5:\n",
    "        md += \"\\nexcerpt: '\" + html_escape(item.excerpt) + \"'\"\n",
    "    \n",
    "    md += \"\\ndate: \" + str(item.pub_date) \n",
    "    \n",
    "    md += \"\\nvenue: '\" + html_escape(item.venue) + \"'\"\n",
    "    \n",
    "    if len(str(item.paper_url)) > 5:\n",
    "        md += \"\\npaperurl: '\" + item.paper_url + \"'\"\n",
    "    \n",
    "    md += \"\\ncitation: '\" + html_escape(item.citation) + \"'\"\n",
    "    \n",
    "    md += \"\\n---\"\n",
    "    \n",
    "    ## Markdown description for individual page\n",
    "        \n",
    "    if len(str(item.excerpt)) > 5:\n",
    "        md += \"\\n\" + html_escape(item.excerpt) + \"\\n\"\n",
    "    \n",
    "    if len(str(item.paper_url)) > 5:\n",
    "        md += \"\\n[Download paper here](\" + item.paper_url + \")\\n\" \n",
    "        \n",
    "    md += \"\\nRecommended citation: \" + item.citation\n",
    "    \n",
    "    md_filename = os.path.basename(md_filename)\n",
    "       \n",
    "    with open(\"../_publications/\" + md_filename, 'w') as f:\n",
    "        f.write(md)"
   ]
  },
  {
   "cell_type": "markdown",
   "metadata": {},
   "source": [
    "These files are in the publications directory, one directory below where we're working from."
   ]
  },
  {
   "cell_type": "code",
   "execution_count": 25,
   "metadata": {
    "tags": []
   },
   "outputs": [
    {
     "output_type": "stream",
     "name": "stdout",
     "text": "14-Nishigaki_2014.md         18-Santana_2018.md\n16-Arcos_2016.md             19-Kinoshita-Terauch_2019.md\n16-Nishigaki_2016.md         19-Romero_2019.md\n17-Romero_2017.md\n"
    }
   ],
   "source": [
    "!ls ../_publications/"
   ]
  },
  {
   "cell_type": "code",
   "execution_count": 26,
   "metadata": {
    "tags": []
   },
   "outputs": [
    {
     "output_type": "stream",
     "name": "stdout",
     "text": "---\ntitle: \"FRET-based binding assay between a fluorescent cAMP analogue and a cyclic nucleotide-binding domain tagged with a CFP\"\ncollection: publications\npermalink: /publication/01/07/17-Romero_2017\nexcerpt: 'The cyclic nucleotide-binding domain (CNBD) functions as a regulatory domain of many proteins involved in cyclic nucleotide signalling. We developed a straightforward and reliable binding assay based on intermolecular fluorescence resonance energy transfer (FRET) between an adenosine-3’,5’-cyclic monophosphate analogue labelled with fluorescein and a recombinant CNBD of human EPAC1 tagged with a cyan fluorescence protein (CFP). The high FRET efficiency of this method (~ 80%) allowed us to perform several types of binding experiments with nanomolar range of sample using conventional equipment. In addition, the CFP tag on the CNBD enabled us to perform a specific binding experiment using an unpurified protein. Considering these advantages, this technique is useful to study poorly characterized CNBDs.'\ndate: 01/07/17\nvenue: 'FEBS Letters'\npaperurl: 'http://fraroco.github.io/files/FRomero_FEBSLETTERS_2017.pdf'\ncitation: 'Romero <i>et al.,</i> 2017 '\n---\nThe cyclic nucleotide-binding domain (CNBD) functions as a regulatory domain of many proteins involved in cyclic nucleotide signalling. We developed a straightforward and reliable binding assay based on intermolecular fluorescence resonance energy transfer (FRET) between an adenosine-3’,5’-cyclic monophosphate analogue labelled with fluorescein and a recombinant CNBD of human EPAC1 tagged with a cyan fluorescence protein (CFP). The high FRET efficiency of this method (~ 80%) allowed us to perform several types of binding experiments with nanomolar range of sample using conventional equipment. In addition, the CFP tag on the CNBD enabled us to perform a specific binding experiment using an unpurified protein. Considering these advantages, this technique is useful to study poorly characterized CNBDs.\n\n[Download paper here](http://fraroco.github.io/files/FRomero_FEBSLETTERS_2017.pdf)\n\nRecommended citation: Romero <i>et al.,</i> 2017"
    }
   ],
   "source": [
    "!cat ../_publications/17-Romero_2017.md\n"
   ]
  },
  {
   "cell_type": "code",
   "execution_count": null,
   "metadata": {
    "collapsed": true
   },
   "outputs": [],
   "source": []
  }
 ],
 "metadata": {
  "kernelspec": {
   "display_name": "Python 3.7.7 64-bit",
   "language": "python",
   "name": "python_defaultSpec_1595798142064"
  },
  "language_info": {
   "codemirror_mode": {
    "name": "ipython",
    "version": 3
   },
   "file_extension": ".py",
   "mimetype": "text/x-python",
   "name": "python",
   "nbconvert_exporter": "python",
   "pygments_lexer": "ipython3",
   "version": "3.7.7-final"
  }
 },
 "nbformat": 4,
 "nbformat_minor": 1
}